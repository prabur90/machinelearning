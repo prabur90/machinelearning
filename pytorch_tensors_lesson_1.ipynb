{
  "nbformat": 4,
  "nbformat_minor": 0,
  "metadata": {
    "colab": {
      "provenance": [],
      "authorship_tag": "ABX9TyOkBKt5Wc9/NflXUPqP+LTw",
      "include_colab_link": true
    },
    "kernelspec": {
      "name": "python3",
      "display_name": "Python 3"
    },
    "language_info": {
      "name": "python"
    }
  },
  "cells": [
    {
      "cell_type": "markdown",
      "metadata": {
        "id": "view-in-github",
        "colab_type": "text"
      },
      "source": [
        "<a href=\"https://colab.research.google.com/github/prabur90/machinelearning/blob/main/pytorch_tensors_lesson_1.ipynb\" target=\"_parent\"><img src=\"https://colab.research.google.com/assets/colab-badge.svg\" alt=\"Open In Colab\"/></a>"
      ]
    },
    {
      "cell_type": "code",
      "execution_count": 1,
      "metadata": {
        "id": "yWJ_eBXbPADO"
      },
      "outputs": [],
      "source": [
        "import torch"
      ]
    },
    {
      "cell_type": "code",
      "source": [
        "z=torch.zeros([5,3])\n",
        "print(z)\n",
        "print(z.dtype)"
      ],
      "metadata": {
        "colab": {
          "base_uri": "https://localhost:8080/"
        },
        "id": "QunFaMAsRxLL",
        "outputId": "41e4a14a-e303-471d-ce06-5009110ea54c"
      },
      "execution_count": 3,
      "outputs": [
        {
          "output_type": "stream",
          "name": "stdout",
          "text": [
            "tensor([[0., 0., 0.],\n",
            "        [0., 0., 0.],\n",
            "        [0., 0., 0.],\n",
            "        [0., 0., 0.],\n",
            "        [0., 0., 0.]])\n",
            "torch.float32\n"
          ]
        }
      ]
    },
    {
      "cell_type": "code",
      "source": [
        "i=torch.ones([5,3], dtype=torch.int16)\n",
        "print(i)\n",
        "print(i.dtype)"
      ],
      "metadata": {
        "colab": {
          "base_uri": "https://localhost:8080/"
        },
        "id": "BgbPGucxTbiK",
        "outputId": "02f06e19-bd28-49f3-c9d7-876f9d95768e"
      },
      "execution_count": 5,
      "outputs": [
        {
          "output_type": "stream",
          "name": "stdout",
          "text": [
            "tensor([[1, 1, 1],\n",
            "        [1, 1, 1],\n",
            "        [1, 1, 1],\n",
            "        [1, 1, 1],\n",
            "        [1, 1, 1]], dtype=torch.int16)\n",
            "torch.int16\n"
          ]
        }
      ]
    },
    {
      "cell_type": "code",
      "source": [
        "torch.manual_seed(123)\n",
        "r1=torch.rand(5,3)\n",
        "print('A random tensor:')\n",
        "print(r1)\n",
        "\n",
        "r2=torch.rand(5,3)\n",
        "print('A Different random tensor:')\n",
        "print(r2)\n",
        "\n",
        "torch.manual_seed(123)\n",
        "r3=torch.rand(5,3)\n",
        "print('Repeated random tensor:')\n",
        "print(r3)\n"
      ],
      "metadata": {
        "colab": {
          "base_uri": "https://localhost:8080/"
        },
        "id": "28mADf5zUYa0",
        "outputId": "fdb43609-cc1b-4a14-bd2a-9c769cadd04f"
      },
      "execution_count": 14,
      "outputs": [
        {
          "output_type": "stream",
          "name": "stdout",
          "text": [
            "A random tensor:\n",
            "tensor([[0.2961, 0.5166, 0.2517],\n",
            "        [0.6886, 0.0740, 0.8665],\n",
            "        [0.1366, 0.1025, 0.1841],\n",
            "        [0.7264, 0.3153, 0.6871],\n",
            "        [0.0756, 0.1966, 0.3164]])\n",
            "A Different random tensor:\n",
            "tensor([[0.4017, 0.1186, 0.8274],\n",
            "        [0.3821, 0.6605, 0.8536],\n",
            "        [0.5932, 0.6367, 0.9826],\n",
            "        [0.2745, 0.6584, 0.2775],\n",
            "        [0.8573, 0.8993, 0.0390]])\n",
            "Repeated random tensor:\n",
            "tensor([[0.2961, 0.5166, 0.2517],\n",
            "        [0.6886, 0.0740, 0.8665],\n",
            "        [0.1366, 0.1025, 0.1841],\n",
            "        [0.7264, 0.3153, 0.6871],\n",
            "        [0.0756, 0.1966, 0.3164]])\n"
          ]
        }
      ]
    },
    {
      "cell_type": "markdown",
      "source": [
        "Arithmetic Operations"
      ],
      "metadata": {
        "id": "WmaIZAOWdrcv"
      }
    },
    {
      "cell_type": "code",
      "source": [
        "ones = torch.ones(2,2, dtype=torch.int32)\n",
        "print(ones)\n",
        "\n",
        "twos = torch.ones(2,2)*2\n",
        "print(twos)\n",
        "\n",
        "threes = ones + twos\n",
        "print(threes)"
      ],
      "metadata": {
        "colab": {
          "base_uri": "https://localhost:8080/"
        },
        "id": "bFo_bPP3dqqu",
        "outputId": "b4406c22-0cf0-44a6-9011-6e5720590842"
      },
      "execution_count": 18,
      "outputs": [
        {
          "output_type": "stream",
          "name": "stdout",
          "text": [
            "tensor([[1, 1],\n",
            "        [1, 1]], dtype=torch.int32)\n",
            "tensor([[2., 2.],\n",
            "        [2., 2.]])\n",
            "tensor([[3., 3.],\n",
            "        [3., 3.]])\n"
          ]
        }
      ]
    },
    {
      "cell_type": "markdown",
      "source": [
        "Arithmetic Operation with different shape will leads to Runtime Error"
      ],
      "metadata": {
        "id": "pihceY0VgRNT"
      }
    },
    {
      "cell_type": "code",
      "source": [
        "r1 = torch.ones(2,2)\n",
        "r2 = torch.ones(2,3)\n",
        "print(r1)\n",
        "print(r2)\n",
        "r3 = r1+r2"
      ],
      "metadata": {
        "colab": {
          "base_uri": "https://localhost:8080/",
          "height": 245
        },
        "id": "UXHXVvmvgT1g",
        "outputId": "c2fb5a32-c3e9-46e8-b91b-b7f79e1f1e87"
      },
      "execution_count": 20,
      "outputs": [
        {
          "output_type": "stream",
          "name": "stdout",
          "text": [
            "tensor([[1., 1.],\n",
            "        [1., 1.]])\n",
            "tensor([[1., 1., 1.],\n",
            "        [1., 1., 1.]])\n"
          ]
        },
        {
          "output_type": "error",
          "ename": "RuntimeError",
          "evalue": "The size of tensor a (2) must match the size of tensor b (3) at non-singleton dimension 1",
          "traceback": [
            "\u001b[0;31m---------------------------------------------------------------------------\u001b[0m",
            "\u001b[0;31mRuntimeError\u001b[0m                              Traceback (most recent call last)",
            "\u001b[0;32m<ipython-input-20-107c924417b8>\u001b[0m in \u001b[0;36m<cell line: 5>\u001b[0;34m()\u001b[0m\n\u001b[1;32m      3\u001b[0m \u001b[0mprint\u001b[0m\u001b[0;34m(\u001b[0m\u001b[0mr1\u001b[0m\u001b[0;34m)\u001b[0m\u001b[0;34m\u001b[0m\u001b[0;34m\u001b[0m\u001b[0m\n\u001b[1;32m      4\u001b[0m \u001b[0mprint\u001b[0m\u001b[0;34m(\u001b[0m\u001b[0mr2\u001b[0m\u001b[0;34m)\u001b[0m\u001b[0;34m\u001b[0m\u001b[0;34m\u001b[0m\u001b[0m\n\u001b[0;32m----> 5\u001b[0;31m \u001b[0mr3\u001b[0m \u001b[0;34m=\u001b[0m \u001b[0mr1\u001b[0m\u001b[0;34m+\u001b[0m\u001b[0mr2\u001b[0m\u001b[0;34m\u001b[0m\u001b[0;34m\u001b[0m\u001b[0m\n\u001b[0m",
            "\u001b[0;31mRuntimeError\u001b[0m: The size of tensor a (2) must match the size of tensor b (3) at non-singleton dimension 1"
          ]
        }
      ]
    },
    {
      "cell_type": "code",
      "source": [
        "r = torch.rand(2, 2) - 0.5 * 2 # values between -1 and 1\n",
        "print('A random matrix, r:')\n",
        "print(r)\n",
        "\n",
        "# Common mathematical operations are supported:\n",
        "print('\\nAbsolute value of r:')\n",
        "print(torch.abs(r))\n",
        "\n",
        "# ...as are trigonometric functions:\n",
        "print('\\nInverse sine of r:')\n",
        "print(torch.asin(r))\n",
        "\n",
        "# ...and linear algebra operations like determinant and singular value decomposition\n",
        "print('\\nDeterminant of r:')\n",
        "print(torch.det(r))\n",
        "print('\\nSingular value decomposition of r:')\n",
        "print(torch.svd(r))\n",
        "\n",
        "# ...and statistical and aggregate operations:\n",
        "print('\\nAverage and standard deviation of r:')\n",
        "print(torch.std_mean(r))\n",
        "print('\\nMaximum value of r:')\n",
        "print(torch.max(r))"
      ],
      "metadata": {
        "colab": {
          "base_uri": "https://localhost:8080/"
        },
        "id": "DAat-vE0grut",
        "outputId": "7a9c2a2b-0be1-46df-ef26-98dc9fe87f4e"
      },
      "execution_count": 21,
      "outputs": [
        {
          "output_type": "stream",
          "name": "stdout",
          "text": [
            "A random matrix, r:\n",
            "tensor([[-0.5983, -0.8814],\n",
            "        [-0.1726, -0.6179]])\n",
            "\n",
            "Absolute value of r:\n",
            "tensor([[0.5983, 0.8814],\n",
            "        [0.1726, 0.6179]])\n",
            "\n",
            "Inverse sine of r:\n",
            "tensor([[-0.6413, -1.0789],\n",
            "        [-0.1735, -0.6661]])\n",
            "\n",
            "Determinant of r:\n",
            "tensor(0.2175)\n",
            "\n",
            "Singular value decomposition of r:\n",
            "torch.return_types.svd(\n",
            "U=tensor([[-0.8624, -0.5063],\n",
            "        [-0.5063,  0.8624]]),\n",
            "S=tensor([1.2309, 0.1767]),\n",
            "V=tensor([[ 0.4901,  0.8717],\n",
            "        [ 0.8717, -0.4901]]))\n",
            "\n",
            "Average and standard deviation of r:\n",
            "(tensor(0.2932), tensor(-0.5676))\n",
            "\n",
            "Maximum value of r:\n",
            "tensor(-0.1726)\n"
          ]
        }
      ]
    },
    {
      "cell_type": "code",
      "source": [],
      "metadata": {
        "id": "Ige8tz7hgNZQ"
      },
      "execution_count": null,
      "outputs": []
    }
  ]
}